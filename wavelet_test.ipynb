{
  "nbformat": 4,
  "nbformat_minor": 0,
  "metadata": {
    "colab": {
      "name": "wavelet_test.ipynb",
      "provenance": [],
      "collapsed_sections": []
    },
    "kernelspec": {
      "name": "python3",
      "display_name": "Python 3"
    },
    "language_info": {
      "name": "python"
    }
  },
  "cells": [
    {
      "cell_type": "code",
      "source": [
        "!pip install --upgrade xlrd"
      ],
      "metadata": {
        "id": "obVbKL-gscbV",
        "colab": {
          "base_uri": "https://localhost:8080/",
          "height": 0
        },
        "outputId": "81ad5357-3dc7-41ba-8ac2-33ddbdec4c79"
      },
      "execution_count": 1,
      "outputs": [
        {
          "output_type": "stream",
          "name": "stdout",
          "text": [
            "Requirement already satisfied: xlrd in /usr/local/lib/python3.7/dist-packages (1.1.0)\n",
            "Collecting xlrd\n",
            "  Downloading xlrd-2.0.1-py2.py3-none-any.whl (96 kB)\n",
            "\u001b[?25l\r\u001b[K     |███▍                            | 10 kB 17.4 MB/s eta 0:00:01\r\u001b[K     |██████▉                         | 20 kB 9.2 MB/s eta 0:00:01\r\u001b[K     |██████████▏                     | 30 kB 7.7 MB/s eta 0:00:01\r\u001b[K     |█████████████▋                  | 40 kB 7.0 MB/s eta 0:00:01\r\u001b[K     |█████████████████               | 51 kB 4.2 MB/s eta 0:00:01\r\u001b[K     |████████████████████▍           | 61 kB 5.0 MB/s eta 0:00:01\r\u001b[K     |███████████████████████▊        | 71 kB 5.5 MB/s eta 0:00:01\r\u001b[K     |███████████████████████████▏    | 81 kB 4.3 MB/s eta 0:00:01\r\u001b[K     |██████████████████████████████▌ | 92 kB 4.8 MB/s eta 0:00:01\r\u001b[K     |████████████████████████████████| 96 kB 2.8 MB/s \n",
            "\u001b[?25hInstalling collected packages: xlrd\n",
            "  Attempting uninstall: xlrd\n",
            "    Found existing installation: xlrd 1.1.0\n",
            "    Uninstalling xlrd-1.1.0:\n",
            "      Successfully uninstalled xlrd-1.1.0\n",
            "Successfully installed xlrd-2.0.1\n"
          ]
        }
      ]
    },
    {
      "cell_type": "code",
      "source": [
        "from google.colab import drive\n",
        "drive.mount('/content/drive')"
      ],
      "metadata": {
        "id": "0LHzw-NxKwPQ",
        "colab": {
          "base_uri": "https://localhost:8080/",
          "height": 0
        },
        "outputId": "38083b22-3e24-4860-8dae-82de34aca949"
      },
      "execution_count": 2,
      "outputs": [
        {
          "output_type": "stream",
          "name": "stdout",
          "text": [
            "Mounted at /content/drive\n"
          ]
        }
      ]
    },
    {
      "cell_type": "code",
      "execution_count": 3,
      "metadata": {
        "id": "yeM0jfHDrMts"
      },
      "outputs": [],
      "source": [
        "import numpy as np \n",
        "import pandas as pd\n",
        "import matplotlib.pyplot as plt\n",
        "import math\n",
        "from sklearn.preprocessing import MinMaxScaler"
      ]
    },
    {
      "cell_type": "code",
      "source": [
        "import tensorflow.keras.models"
      ],
      "metadata": {
        "id": "Rcen_xtlr44T"
      },
      "execution_count": 4,
      "outputs": []
    },
    {
      "cell_type": "code",
      "source": [
        "check = tensorflow.keras.models.load_model('/content/drive/MyDrive/my_model1.h5')"
      ],
      "metadata": {
        "id": "En7NG3ohsAqX"
      },
      "execution_count": 120,
      "outputs": []
    },
    {
      "cell_type": "code",
      "source": [
        "BER=[]\n",
        "MSE=[]"
      ],
      "metadata": {
        "id": "ZEhilXedP0_o"
      },
      "execution_count": 121,
      "outputs": []
    },
    {
      "cell_type": "code",
      "source": [
        "dis35 = pd.read_csv(\"/content/drive/MyDrive/ofdm data/data/distorted_40db_test.csv\", header=None)\n",
        "des35 = pd.read_csv(\"/content/drive/MyDrive/ofdm data/data/desired_40db_test.csv\", header=None)\n",
        "print(len(des35))"
      ],
      "metadata": {
        "id": "t-VebxQKsM3i",
        "colab": {
          "base_uri": "https://localhost:8080/",
          "height": 0
        },
        "outputId": "85651c31-0a48-4140-c108-ebfdcafd3352"
      },
      "execution_count": 218,
      "outputs": [
        {
          "output_type": "stream",
          "name": "stdout",
          "text": [
            "100\n"
          ]
        }
      ]
    },
    {
      "cell_type": "code",
      "source": [
        "def create_packets(data):\n",
        "  sample = []\n",
        "  xs = []\n",
        "  rn = len(data)\n",
        "\n",
        "  if rn%16 == 0:\n",
        "    pass\n",
        "  else:\n",
        "    rn = rn - rn%16\n",
        "\n",
        "  for i in range(0,rn,16):\n",
        "    xs.append(data[0][i:i+16])\n",
        "\n",
        "    sample.append(xs)\n",
        "    xs = []\n",
        "\n",
        "  sample = np.array(sample)\n",
        "  sample = sample.reshape(int(rn/16), 16, 1)\n",
        "  return(sample)"
      ],
      "metadata": {
        "id": "WdwQbA0LsX9a"
      },
      "execution_count": 219,
      "outputs": []
    },
    {
      "cell_type": "code",
      "source": [
        "dis_chk = create_packets(dis35)\n",
        "des_chk = create_packets(des35)"
      ],
      "metadata": {
        "id": "kKItCww_tEZ5"
      },
      "execution_count": 220,
      "outputs": []
    },
    {
      "cell_type": "code",
      "source": [
        "## Scale the data\n",
        "\n",
        "def scale_data(X,y):\n",
        "  scaler = MinMaxScaler()\n",
        "  X = X.reshape(X.shape[0], X.shape[1])\n",
        "  y = y.reshape(y.shape[0], y.shape[1])\n",
        "  \n",
        "  distorted_scaled = scaler.fit_transform(X)\n",
        "  desired_scaled = scaler.fit_transform(y)\n",
        "  \n",
        "  distorted_scaled = distorted_scaled.reshape(distorted_scaled.shape[0], distorted_scaled.shape[1], 1)\n",
        "  desired_scaled = desired_scaled.reshape(desired_scaled.shape[0], desired_scaled.shape[1], 1)\n",
        "\n",
        "  return distorted_scaled, desired_scaled"
      ],
      "metadata": {
        "id": "nh2J6zRetduO"
      },
      "execution_count": 221,
      "outputs": []
    },
    {
      "cell_type": "code",
      "source": [
        "scl_dis_chk ,  scl_des_chk = scale_data(dis_chk, des_chk)"
      ],
      "metadata": {
        "id": "FAlY_Q0VtHw-"
      },
      "execution_count": 222,
      "outputs": []
    },
    {
      "cell_type": "code",
      "source": [
        "def minMaxDenormalize(y, a, b):\n",
        "  x = (y * (b - a) + a)\n",
        "  return x"
      ],
      "metadata": {
        "id": "PSfKe1v9ti0E"
      },
      "execution_count": 223,
      "outputs": []
    },
    {
      "cell_type": "code",
      "source": [
        "full_out = check.predict(scl_dis_chk)\n",
        "full_out = full_out.reshape(len(scl_dis_chk)*16)\n",
        "desired_scaled = scl_des_chk.reshape(len(scl_des_chk)*16)\n",
        "dff=minMaxDenormalize(full_out,-1,1)\n",
        "dff1=minMaxDenormalize(desired_scaled,-1,1)\n",
        "from sklearn.metrics import mean_squared_error\n",
        "mse = mean_squared_error(dff1, dff)\n",
        "print(mse)"
      ],
      "metadata": {
        "colab": {
          "base_uri": "https://localhost:8080/",
          "height": 0
        },
        "id": "5ci-XBZvtuwc",
        "outputId": "d17bd986-f42e-464f-f5a9-678bad18496b"
      },
      "execution_count": 224,
      "outputs": [
        {
          "output_type": "stream",
          "name": "stdout",
          "text": [
            "0.25014418379476905\n"
          ]
        }
      ]
    },
    {
      "cell_type": "code",
      "source": [
        "plt.figure(figsize=(20,10))\n",
        "plt.plot(dff[0:30])\n",
        "plt.subplot()\n",
        "plt.plot(dff1[0:30])"
      ],
      "metadata": {
        "colab": {
          "base_uri": "https://localhost:8080/",
          "height": 664
        },
        "id": "ZKc27ioUuexl",
        "outputId": "163d0ef3-839a-4816-a641-4799f145b980"
      },
      "execution_count": 225,
      "outputs": [
        {
          "output_type": "stream",
          "name": "stderr",
          "text": [
            "/usr/local/lib/python3.7/dist-packages/ipykernel_launcher.py:3: MatplotlibDeprecationWarning: Adding an axes using the same arguments as a previous axes currently reuses the earlier instance.  In a future version, a new instance will always be created and returned.  Meanwhile, this warning can be suppressed, and the future behavior ensured, by passing a unique label to each axes instance.\n",
            "  This is separate from the ipykernel package so we can avoid doing imports until\n"
          ]
        },
        {
          "output_type": "execute_result",
          "data": {
            "text/plain": [
              "[<matplotlib.lines.Line2D at 0x7f682b60f610>]"
            ]
          },
          "metadata": {},
          "execution_count": 225
        },
        {
          "output_type": "display_data",
          "data": {
            "text/plain": [
              "<Figure size 1440x720 with 1 Axes>"
            ],
            "image/png": "[encoded data removed]"
          },
          "metadata": {
            "needs_background": "light"
          }
        }
      ]
    },
    {
      "cell_type": "code",
      "source": [
        "corr = 0\n",
        "for i in range(len(dff)):\n",
        "  if dff[i] == dff1[i]:\n",
        "    corr += 1"
      ],
      "metadata": {
        "id": "CLQgbmZW_tFP"
      },
      "execution_count": 226,
      "outputs": []
    },
    {
      "cell_type": "code",
      "source": [
        "ber= (len(dff1)-corr)/len(dff1)\n",
        "print(len(dff1), corr, len(dff1)-corr, ber)\n",
        "\n"
      ],
      "metadata": {
        "colab": {
          "base_uri": "https://localhost:8080/",
          "height": 0
        },
        "id": "1NxEFgEcANGy",
        "outputId": "6eb1891b-5e5a-4d23-a956-ad47f1c1b4f3"
      },
      "execution_count": 227,
      "outputs": [
        {
          "output_type": "stream",
          "name": "stdout",
          "text": [
            "96 87 9 0.09375\n"
          ]
        }
      ]
    },
    {
      "cell_type": "code",
      "source": [
        "MSE.append(mse)\n",
        "BER.append(ber)"
      ],
      "metadata": {
        "id": "f4lU0uPiPXRh"
      },
      "execution_count": 228,
      "outputs": []
    },
    {
      "cell_type": "code",
      "source": [
        "print(BER) \n",
        "print(MSE)"
      ],
      "metadata": {
        "colab": {
          "base_uri": "https://localhost:8080/",
          "height": 0
        },
        "id": "mbzy-07VO-kc",
        "outputId": "7680ef21-05ef-4fe9-9ba0-c8bdaf671dea"
      },
      "execution_count": 229,
      "outputs": [
        {
          "output_type": "stream",
          "name": "stdout",
          "text": [
            "[0.4479166666666667, 0.10416666666666667, 0.08333333333333333, 0.0625, 0.052083333333333336, 0.041666666666666664, 0.03125, 0.010416666666666666, 0.09375]\n",
            "[1.7084756271641577, 0.2128370732148187, 0.12500008180798564, 0.16661035370304475, 0.12467327464955913, 0.12499997516473509, 0.0785791198314459, 1.8133642735544222e-15, 0.25014418379476905]\n"
          ]
        }
      ]
    },
    {
      "cell_type": "code",
      "source": [
        "res = {'SNR': ['0 dB','5 dB', '10 dB', '15 dB', '20 dB', '25 dB', '30 dB', '35 dB', '40 dB'], 'MSE': MSE,'BER':BER}\n",
        "result = pd.DataFrame(data=res)"
      ],
      "metadata": {
        "id": "6MPN94ih6xHt"
      },
      "execution_count": 230,
      "outputs": []
    },
    {
      "cell_type": "code",
      "source": [
        "result"
      ],
      "metadata": {
        "colab": {
          "base_uri": "https://localhost:8080/",
          "height": 332
        },
        "id": "8D1odu158mZy",
        "outputId": "89141dac-71e9-48cb-a085-1929537ab3cb"
      },
      "execution_count": 231,
      "outputs": [
        {
          "output_type": "execute_result",
          "data": {
            "text/plain": [
              "     SNR           MSE       BER\n",
              "0   0 dB  1.708476e+00  0.447917\n",
              "1   5 dB  2.128371e-01  0.104167\n",
              "2  10 dB  1.250001e-01  0.083333\n",
              "3  15 dB  1.666104e-01  0.062500\n",
              "4  20 dB  1.246733e-01  0.052083\n",
              "5  25 dB  1.250000e-01  0.041667\n",
              "6  30 dB  7.857912e-02  0.031250\n",
              "7  35 dB  1.813364e-15  0.010417\n",
              "8  40 dB  2.501442e-01  0.093750"
            ],
            "text/html": [
              "\n",
              "  <div id=\"df-fafdac6b-f2d1-49d8-8440-630125fc2a45\">\n",
              "    <div class=\"colab-df-container\">\n",
              "      <div>\n",
              "<style scoped>\n",
              "    .dataframe tbody tr th:only-of-type {\n",
              "        vertical-align: middle;\n",
              "    }\n",
              "\n",
              "    .dataframe tbody tr th {\n",
              "        vertical-align: top;\n",
              "    }\n",
              "\n",
              "    .dataframe thead th {\n",
              "        text-align: right;\n",
              "    }\n",
              "</style>\n",
              "<table border=\"1\" class=\"dataframe\">\n",
              "  <thead>\n",
              "    <tr style=\"text-align: right;\">\n",
              "      <th></th>\n",
              "      <th>SNR</th>\n",
              "      <th>MSE</th>\n",
              "      <th>BER</th>\n",
              "    </tr>\n",
              "  </thead>\n",
              "  <tbody>\n",
              "    <tr>\n",
              "      <th>0</th>\n",
              "      <td>0 dB</td>\n",
              "      <td>1.708476e+00</td>\n",
              "      <td>0.447917</td>\n",
              "    </tr>\n",
              "    <tr>\n",
              "      <th>1</th>\n",
              "      <td>5 dB</td>\n",
              "      <td>2.128371e-01</td>\n",
              "      <td>0.104167</td>\n",
              "    </tr>\n",
              "    <tr>\n",
              "      <th>2</th>\n",
              "      <td>10 dB</td>\n",
              "      <td>1.250001e-01</td>\n",
              "      <td>0.083333</td>\n",
              "    </tr>\n",
              "    <tr>\n",
              "      <th>3</th>\n",
              "      <td>15 dB</td>\n",
              "      <td>1.666104e-01</td>\n",
              "      <td>0.062500</td>\n",
              "    </tr>\n",
              "    <tr>\n",
              "      <th>4</th>\n",
              "      <td>20 dB</td>\n",
              "      <td>1.246733e-01</td>\n",
              "      <td>0.052083</td>\n",
              "    </tr>\n",
              "    <tr>\n",
              "      <th>5</th>\n",
              "      <td>25 dB</td>\n",
              "      <td>1.250000e-01</td>\n",
              "      <td>0.041667</td>\n",
              "    </tr>\n",
              "    <tr>\n",
              "      <th>6</th>\n",
              "      <td>30 dB</td>\n",
              "      <td>7.857912e-02</td>\n",
              "      <td>0.031250</td>\n",
              "    </tr>\n",
              "    <tr>\n",
              "      <th>7</th>\n",
              "      <td>35 dB</td>\n",
              "      <td>1.813364e-15</td>\n",
              "      <td>0.010417</td>\n",
              "    </tr>\n",
              "    <tr>\n",
              "      <th>8</th>\n",
              "      <td>40 dB</td>\n",
              "      <td>2.501442e-01</td>\n",
              "      <td>0.093750</td>\n",
              "    </tr>\n",
              "  </tbody>\n",
              "</table>\n",
              "</div>\n",
              "      <button class=\"colab-df-convert\" onclick=\"convertToInteractive('df-fafdac6b-f2d1-49d8-8440-630125fc2a45')\"\n",
              "              title=\"Convert this dataframe to an interactive table.\"\n",
              "              style=\"display:none;\">\n",
              "        \n",
              "  <svg xmlns=\"http://www.w3.org/2000/svg\" height=\"24px\"viewBox=\"0 0 24 24\"\n",
              "       width=\"24px\">\n",
              "    <path d=\"M0 0h24v24H0V0z\" fill=\"none\"/>\n",
              "    <path d=\"M18.56 5.44l.94 2.06.94-2.06 2.06-.94-2.06-.94-.94-2.06-.94 2.06-2.06.94zm-11 1L8.5 8.5l.94-2.06 2.06-.94-2.06-.94L8.5 2.5l-.94 2.06-2.06.94zm10 10l.94 2.06.94-2.06 2.06-.94-2.06-.94-.94-2.06-.94 2.06-2.06.94z\"/><path d=\"M17.41 7.96l-1.37-1.37c-.4-.4-.92-.59-1.43-.59-.52 0-1.04.2-1.43.59L10.3 9.45l-7.72 7.72c-.78.78-.78 2.05 0 2.83L4 21.41c.39.39.9.59 1.41.59.51 0 1.02-.2 1.41-.59l7.78-7.78 2.81-2.81c.8-.78.8-2.07 0-2.86zM5.41 20L4 18.59l7.72-7.72 1.47 1.35L5.41 20z\"/>\n",
              "  </svg>\n",
              "      </button>\n",
              "      \n",
              "  <style>\n",
              "    .colab-df-container {\n",
              "      display:flex;\n",
              "      flex-wrap:wrap;\n",
              "      gap: 12px;\n",
              "    }\n",
              "\n",
              "    .colab-df-convert {\n",
              "      background-color: #E8F0FE;\n",
              "      border: none;\n",
              "      border-radius: 50%;\n",
              "      cursor: pointer;\n",
              "      display: none;\n",
              "      fill: #1967D2;\n",
              "      height: 32px;\n",
              "      padding: 0 0 0 0;\n",
              "      width: 32px;\n",
              "    }\n",
              "\n",
              "    .colab-df-convert:hover {\n",
              "      background-color: #E2EBFA;\n",
              "      box-shadow: 0px 1px 2px rgba(60, 64, 67, 0.3), 0px 1px 3px 1px rgba(60, 64, 67, 0.15);\n",
              "      fill: #174EA6;\n",
              "    }\n",
              "\n",
              "    [theme=dark] .colab-df-convert {\n",
              "      background-color: #3B4455;\n",
              "      fill: #D2E3FC;\n",
              "    }\n",
              "\n",
              "    [theme=dark] .colab-df-convert:hover {\n",
              "      background-color: #434B5C;\n",
              "      box-shadow: 0px 1px 3px 1px rgba(0, 0, 0, 0.15);\n",
              "      filter: drop-shadow(0px 1px 2px rgba(0, 0, 0, 0.3));\n",
              "      fill: #FFFFFF;\n",
              "    }\n",
              "  </style>\n",
              "\n",
              "      <script>\n",
              "        const buttonEl =\n",
              "          document.querySelector('#df-fafdac6b-f2d1-49d8-8440-630125fc2a45 button.colab-df-convert');\n",
              "        buttonEl.style.display =\n",
              "          google.colab.kernel.accessAllowed ? 'block' : 'none';\n",
              "\n",
              "        async function convertToInteractive(key) {\n",
              "          const element = document.querySelector('#df-fafdac6b-f2d1-49d8-8440-630125fc2a45');\n",
              "          const dataTable =\n",
              "            await google.colab.kernel.invokeFunction('convertToInteractive',\n",
              "                                                     [key], {});\n",
              "          if (!dataTable) return;\n",
              "\n",
              "          const docLinkHtml = 'Like what you see? Visit the ' +\n",
              "            '<a target=\"_blank\" href=https://colab.research.google.com/notebooks/data_table.ipynb>data table notebook</a>'\n",
              "            + ' to learn more about interactive tables.';\n",
              "          element.innerHTML = '';\n",
              "          dataTable['output_type'] = 'display_data';\n",
              "          await google.colab.output.renderOutput(dataTable, element);\n",
              "          const docLink = document.createElement('div');\n",
              "          docLink.innerHTML = docLinkHtml;\n",
              "          element.appendChild(docLink);\n",
              "        }\n",
              "      </script>\n",
              "    </div>\n",
              "  </div>\n",
              "  "
            ]
          },
          "metadata": {},
          "execution_count": 231
        }
      ]
    },
    {
      "cell_type": "code",
      "source": [
        "result.to_csv('/content/drive/MyDrive/ofdm data/Result/result.csv')"
      ],
      "metadata": {
        "id": "JbO4zOgfBM9Q"
      },
      "execution_count": 232,
      "outputs": []
    },
    {
      "cell_type": "code",
      "source": [
        "y = result['BER']"
      ],
      "metadata": {
        "id": "ujuuUdmBFXI7"
      },
      "execution_count": 233,
      "outputs": []
    },
    {
      "cell_type": "code",
      "source": [
        "plt.plot(y)\n",
        "plt.xlabel('SNR')\n",
        "plt.ylabel('BER')\n",
        "plt.xticks(ticks=np.arange(0,9), labels=result['SNR'])\n",
        "plt.grid()\n",
        "plt.show()"
      ],
      "metadata": {
        "colab": {
          "base_uri": "https://localhost:8080/",
          "height": 279
        },
        "id": "1VvvJ86rRHGg",
        "outputId": "2f80dfe0-f566-4e94-ebff-d98e610355b6"
      },
      "execution_count": 234,
      "outputs": [
        {
          "output_type": "display_data",
          "data": {
            "text/plain": [
              "<Figure size 432x288 with 1 Axes>"
            ],
            "image/png": "[encoded data removed]"
          },
          "metadata": {
            "needs_background": "light"
          }
        }
      ]
    },
    {
      "cell_type": "code",
      "source": [
        ""
      ],
      "metadata": {
        "id": "Qzvjy6fpNya0"
      },
      "execution_count": null,
      "outputs": []
    }
  ]
}